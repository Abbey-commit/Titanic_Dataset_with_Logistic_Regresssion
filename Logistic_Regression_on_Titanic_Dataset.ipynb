{
 "cells": [
  {
   "cell_type": "code",
   "execution_count": 1,
   "metadata": {},
   "outputs": [],
   "source": [
    "import pandas as pd\n",
    "import numpy as np\n",
    "\n",
    "import matplotlib.pyplot as plt\n",
    "from pandas.plotting import scatter_matrix\n",
    "%matplotlib inline\n",
    "\n",
    "import seaborn as sns\n",
    "sns.set(style='white',color_codes=True)\n",
    "sns.set(font_scale=1.5)\n",
    "\n",
    "from sklearn.linear_model import LogisticRegression\n",
    "from sklearn.model_selection import train_test_split\n",
    "\n",
    "from sklearn.metrics import confusion_matrix\n",
    "from sklearn.metrics import classification_report\n",
    "from sklearn.metrics import accuracy_score\n",
    "from sklearn.metrics import precision_score\n",
    "from sklearn.metrics import recall_score\n",
    "from sklearn.metrics import f1_score\n",
    "from sklearn import metrics"
   ]
  },
  {
   "cell_type": "code",
   "execution_count": 2,
   "metadata": {},
   "outputs": [
    {
     "data": {
      "text/plain": [
       "(891, 12)"
      ]
     },
     "execution_count": 2,
     "metadata": {},
     "output_type": "execute_result"
    }
   ],
   "source": [
    "df_titanic = pd.read_csv(\"titanic-data.csv\")\n",
    "df_titanic.shape"
   ]
  },
  {
   "cell_type": "code",
   "execution_count": 3,
   "metadata": {},
   "outputs": [
    {
     "data": {
      "text/plain": [
       "<bound method DataFrame.info of      PassengerId  Survived  Pclass  \\\n",
       "0              1         0       3   \n",
       "1              2         1       1   \n",
       "2              3         1       3   \n",
       "3              4         1       1   \n",
       "4              5         0       3   \n",
       "..           ...       ...     ...   \n",
       "886          887         0       2   \n",
       "887          888         1       1   \n",
       "888          889         0       3   \n",
       "889          890         1       1   \n",
       "890          891         0       3   \n",
       "\n",
       "                                                  Name     Sex   Age  SibSp  \\\n",
       "0                              Braund, Mr. Owen Harris    male  22.0      1   \n",
       "1    Cumings, Mrs. John Bradley (Florence Briggs Th...  female  38.0      1   \n",
       "2                               Heikkinen, Miss. Laina  female  26.0      0   \n",
       "3         Futrelle, Mrs. Jacques Heath (Lily May Peel)  female  35.0      1   \n",
       "4                             Allen, Mr. William Henry    male  35.0      0   \n",
       "..                                                 ...     ...   ...    ...   \n",
       "886                              Montvila, Rev. Juozas    male  27.0      0   \n",
       "887                       Graham, Miss. Margaret Edith  female  19.0      0   \n",
       "888           Johnston, Miss. Catherine Helen \"Carrie\"  female   NaN      1   \n",
       "889                              Behr, Mr. Karl Howell    male  26.0      0   \n",
       "890                                Dooley, Mr. Patrick    male  32.0      0   \n",
       "\n",
       "     Parch            Ticket     Fare Cabin Embarked  \n",
       "0        0         A/5 21171   7.2500   NaN        S  \n",
       "1        0          PC 17599  71.2833   C85        C  \n",
       "2        0  STON/O2. 3101282   7.9250   NaN        S  \n",
       "3        0            113803  53.1000  C123        S  \n",
       "4        0            373450   8.0500   NaN        S  \n",
       "..     ...               ...      ...   ...      ...  \n",
       "886      0            211536  13.0000   NaN        S  \n",
       "887      0            112053  30.0000   B42        S  \n",
       "888      2        W./C. 6607  23.4500   NaN        S  \n",
       "889      0            111369  30.0000  C148        C  \n",
       "890      0            370376   7.7500   NaN        Q  \n",
       "\n",
       "[891 rows x 12 columns]>"
      ]
     },
     "execution_count": 3,
     "metadata": {},
     "output_type": "execute_result"
    }
   ],
   "source": [
    "df_titanic.info"
   ]
  },
  {
   "cell_type": "code",
   "execution_count": 4,
   "metadata": {},
   "outputs": [
    {
     "data": {
      "text/html": [
       "<div>\n",
       "<style scoped>\n",
       "    .dataframe tbody tr th:only-of-type {\n",
       "        vertical-align: middle;\n",
       "    }\n",
       "\n",
       "    .dataframe tbody tr th {\n",
       "        vertical-align: top;\n",
       "    }\n",
       "\n",
       "    .dataframe thead th {\n",
       "        text-align: right;\n",
       "    }\n",
       "</style>\n",
       "<table border=\"1\" class=\"dataframe\">\n",
       "  <thead>\n",
       "    <tr style=\"text-align: right;\">\n",
       "      <th></th>\n",
       "      <th>PassengerId</th>\n",
       "      <th>Survived</th>\n",
       "      <th>Pclass</th>\n",
       "      <th>Age</th>\n",
       "      <th>SibSp</th>\n",
       "      <th>Parch</th>\n",
       "      <th>Fare</th>\n",
       "    </tr>\n",
       "  </thead>\n",
       "  <tbody>\n",
       "    <tr>\n",
       "      <th>count</th>\n",
       "      <td>891.000000</td>\n",
       "      <td>891.000000</td>\n",
       "      <td>891.000000</td>\n",
       "      <td>714.000000</td>\n",
       "      <td>891.000000</td>\n",
       "      <td>891.000000</td>\n",
       "      <td>891.000000</td>\n",
       "    </tr>\n",
       "    <tr>\n",
       "      <th>mean</th>\n",
       "      <td>446.000000</td>\n",
       "      <td>0.383838</td>\n",
       "      <td>2.308642</td>\n",
       "      <td>29.699118</td>\n",
       "      <td>0.523008</td>\n",
       "      <td>0.381594</td>\n",
       "      <td>32.204208</td>\n",
       "    </tr>\n",
       "    <tr>\n",
       "      <th>std</th>\n",
       "      <td>257.353842</td>\n",
       "      <td>0.486592</td>\n",
       "      <td>0.836071</td>\n",
       "      <td>14.526497</td>\n",
       "      <td>1.102743</td>\n",
       "      <td>0.806057</td>\n",
       "      <td>49.693429</td>\n",
       "    </tr>\n",
       "    <tr>\n",
       "      <th>min</th>\n",
       "      <td>1.000000</td>\n",
       "      <td>0.000000</td>\n",
       "      <td>1.000000</td>\n",
       "      <td>0.420000</td>\n",
       "      <td>0.000000</td>\n",
       "      <td>0.000000</td>\n",
       "      <td>0.000000</td>\n",
       "    </tr>\n",
       "    <tr>\n",
       "      <th>25%</th>\n",
       "      <td>223.500000</td>\n",
       "      <td>0.000000</td>\n",
       "      <td>2.000000</td>\n",
       "      <td>20.125000</td>\n",
       "      <td>0.000000</td>\n",
       "      <td>0.000000</td>\n",
       "      <td>7.910400</td>\n",
       "    </tr>\n",
       "    <tr>\n",
       "      <th>50%</th>\n",
       "      <td>446.000000</td>\n",
       "      <td>0.000000</td>\n",
       "      <td>3.000000</td>\n",
       "      <td>28.000000</td>\n",
       "      <td>0.000000</td>\n",
       "      <td>0.000000</td>\n",
       "      <td>14.454200</td>\n",
       "    </tr>\n",
       "    <tr>\n",
       "      <th>75%</th>\n",
       "      <td>668.500000</td>\n",
       "      <td>1.000000</td>\n",
       "      <td>3.000000</td>\n",
       "      <td>38.000000</td>\n",
       "      <td>1.000000</td>\n",
       "      <td>0.000000</td>\n",
       "      <td>31.000000</td>\n",
       "    </tr>\n",
       "    <tr>\n",
       "      <th>max</th>\n",
       "      <td>891.000000</td>\n",
       "      <td>1.000000</td>\n",
       "      <td>3.000000</td>\n",
       "      <td>80.000000</td>\n",
       "      <td>8.000000</td>\n",
       "      <td>6.000000</td>\n",
       "      <td>512.329200</td>\n",
       "    </tr>\n",
       "  </tbody>\n",
       "</table>\n",
       "</div>"
      ],
      "text/plain": [
       "       PassengerId    Survived      Pclass         Age       SibSp  \\\n",
       "count   891.000000  891.000000  891.000000  714.000000  891.000000   \n",
       "mean    446.000000    0.383838    2.308642   29.699118    0.523008   \n",
       "std     257.353842    0.486592    0.836071   14.526497    1.102743   \n",
       "min       1.000000    0.000000    1.000000    0.420000    0.000000   \n",
       "25%     223.500000    0.000000    2.000000   20.125000    0.000000   \n",
       "50%     446.000000    0.000000    3.000000   28.000000    0.000000   \n",
       "75%     668.500000    1.000000    3.000000   38.000000    1.000000   \n",
       "max     891.000000    1.000000    3.000000   80.000000    8.000000   \n",
       "\n",
       "            Parch        Fare  \n",
       "count  891.000000  891.000000  \n",
       "mean     0.381594   32.204208  \n",
       "std      0.806057   49.693429  \n",
       "min      0.000000    0.000000  \n",
       "25%      0.000000    7.910400  \n",
       "50%      0.000000   14.454200  \n",
       "75%      0.000000   31.000000  \n",
       "max      6.000000  512.329200  "
      ]
     },
     "execution_count": 4,
     "metadata": {},
     "output_type": "execute_result"
    }
   ],
   "source": [
    "df_titanic.describe()"
   ]
  },
  {
   "cell_type": "code",
   "execution_count": 5,
   "metadata": {},
   "outputs": [
    {
     "data": {
      "text/plain": [
       "0    549\n",
       "1    342\n",
       "Name: Survived, dtype: int64"
      ]
     },
     "execution_count": 5,
     "metadata": {},
     "output_type": "execute_result"
    }
   ],
   "source": [
    "df_titanic.Survived.value_counts()"
   ]
  },
  {
   "cell_type": "code",
   "execution_count": 6,
   "metadata": {},
   "outputs": [
    {
     "data": {
      "text/plain": [
       "S    644\n",
       "C    168\n",
       "Q     77\n",
       "Name: Embarked, dtype: int64"
      ]
     },
     "execution_count": 6,
     "metadata": {},
     "output_type": "execute_result"
    }
   ],
   "source": [
    "df_titanic.Embarked.value_counts()"
   ]
  },
  {
   "cell_type": "code",
   "execution_count": 7,
   "metadata": {},
   "outputs": [
    {
     "data": {
      "text/plain": [
       "male      577\n",
       "female    314\n",
       "Name: Sex, dtype: int64"
      ]
     },
     "execution_count": 7,
     "metadata": {},
     "output_type": "execute_result"
    }
   ],
   "source": [
    "df_titanic.Sex.value_counts()"
   ]
  },
  {
   "cell_type": "code",
   "execution_count": 8,
   "metadata": {},
   "outputs": [
    {
     "data": {
      "text/plain": [
       "Index(['PassengerId', 'Survived', 'Pclass', 'Name', 'Sex', 'Age', 'SibSp',\n",
       "       'Parch', 'Ticket', 'Fare', 'Cabin', 'Embarked'],\n",
       "      dtype='object')"
      ]
     },
     "execution_count": 8,
     "metadata": {},
     "output_type": "execute_result"
    }
   ],
   "source": [
    "df_titanic.columns"
   ]
  },
  {
   "cell_type": "code",
   "execution_count": 9,
   "metadata": {},
   "outputs": [
    {
     "data": {
      "text/plain": [
       "PassengerId      0\n",
       "Survived         0\n",
       "Pclass           0\n",
       "Name             0\n",
       "Sex              0\n",
       "Age            177\n",
       "SibSp            0\n",
       "Parch            0\n",
       "Ticket           0\n",
       "Fare             0\n",
       "Cabin          687\n",
       "Embarked         2\n",
       "dtype: int64"
      ]
     },
     "execution_count": 9,
     "metadata": {},
     "output_type": "execute_result"
    }
   ],
   "source": [
    "df_titanic.isnull().sum()"
   ]
  },
  {
   "cell_type": "code",
   "execution_count": 10,
   "metadata": {},
   "outputs": [
    {
     "data": {
      "text/html": [
       "<div>\n",
       "<style scoped>\n",
       "    .dataframe tbody tr th:only-of-type {\n",
       "        vertical-align: middle;\n",
       "    }\n",
       "\n",
       "    .dataframe tbody tr th {\n",
       "        vertical-align: top;\n",
       "    }\n",
       "\n",
       "    .dataframe thead th {\n",
       "        text-align: right;\n",
       "    }\n",
       "</style>\n",
       "<table border=\"1\" class=\"dataframe\">\n",
       "  <thead>\n",
       "    <tr style=\"text-align: right;\">\n",
       "      <th></th>\n",
       "      <th>Survived</th>\n",
       "      <th>Pclass</th>\n",
       "      <th>Sex</th>\n",
       "      <th>Age</th>\n",
       "      <th>SibSp</th>\n",
       "      <th>Parch</th>\n",
       "      <th>Fare</th>\n",
       "      <th>Embarked</th>\n",
       "    </tr>\n",
       "  </thead>\n",
       "  <tbody>\n",
       "    <tr>\n",
       "      <th>0</th>\n",
       "      <td>0</td>\n",
       "      <td>3</td>\n",
       "      <td>male</td>\n",
       "      <td>22.0</td>\n",
       "      <td>1</td>\n",
       "      <td>0</td>\n",
       "      <td>7.2500</td>\n",
       "      <td>S</td>\n",
       "    </tr>\n",
       "    <tr>\n",
       "      <th>1</th>\n",
       "      <td>1</td>\n",
       "      <td>1</td>\n",
       "      <td>female</td>\n",
       "      <td>38.0</td>\n",
       "      <td>1</td>\n",
       "      <td>0</td>\n",
       "      <td>71.2833</td>\n",
       "      <td>C</td>\n",
       "    </tr>\n",
       "    <tr>\n",
       "      <th>2</th>\n",
       "      <td>1</td>\n",
       "      <td>3</td>\n",
       "      <td>female</td>\n",
       "      <td>26.0</td>\n",
       "      <td>0</td>\n",
       "      <td>0</td>\n",
       "      <td>7.9250</td>\n",
       "      <td>S</td>\n",
       "    </tr>\n",
       "    <tr>\n",
       "      <th>3</th>\n",
       "      <td>1</td>\n",
       "      <td>1</td>\n",
       "      <td>female</td>\n",
       "      <td>35.0</td>\n",
       "      <td>1</td>\n",
       "      <td>0</td>\n",
       "      <td>53.1000</td>\n",
       "      <td>S</td>\n",
       "    </tr>\n",
       "    <tr>\n",
       "      <th>4</th>\n",
       "      <td>0</td>\n",
       "      <td>3</td>\n",
       "      <td>male</td>\n",
       "      <td>35.0</td>\n",
       "      <td>0</td>\n",
       "      <td>0</td>\n",
       "      <td>8.0500</td>\n",
       "      <td>S</td>\n",
       "    </tr>\n",
       "  </tbody>\n",
       "</table>\n",
       "</div>"
      ],
      "text/plain": [
       "   Survived  Pclass     Sex   Age  SibSp  Parch     Fare Embarked\n",
       "0         0       3    male  22.0      1      0   7.2500        S\n",
       "1         1       1  female  38.0      1      0  71.2833        C\n",
       "2         1       3  female  26.0      0      0   7.9250        S\n",
       "3         1       1  female  35.0      1      0  53.1000        S\n",
       "4         0       3    male  35.0      0      0   8.0500        S"
      ]
     },
     "execution_count": 10,
     "metadata": {},
     "output_type": "execute_result"
    }
   ],
   "source": [
    "df_titanic = df_titanic.drop(['PassengerId','Name','Ticket','Cabin'],axis=1)\n",
    "df_titanic.head()"
   ]
  },
  {
   "cell_type": "code",
   "execution_count": 13,
   "metadata": {},
   "outputs": [],
   "source": [
    "def age_approx(cols):\n",
    "    Age = cols[0]\n",
    "    Pclass = cols[1]\n",
    "    \n",
    "    if pd.isnull(Age):\n",
    "        if Pclass == 1:\n",
    "            return 37\n",
    "        elif Pclass == 2:\n",
    "            return 29\n",
    "        else:\n",
    "            return 24\n",
    "    else:\n",
    "        return Age\n",
    "    \n",
    "        \n",
    "    "
   ]
  },
  {
   "cell_type": "code",
   "execution_count": 14,
   "metadata": {},
   "outputs": [
    {
     "data": {
      "text/html": [
       "<div>\n",
       "<style scoped>\n",
       "    .dataframe tbody tr th:only-of-type {\n",
       "        vertical-align: middle;\n",
       "    }\n",
       "\n",
       "    .dataframe tbody tr th {\n",
       "        vertical-align: top;\n",
       "    }\n",
       "\n",
       "    .dataframe thead th {\n",
       "        text-align: right;\n",
       "    }\n",
       "</style>\n",
       "<table border=\"1\" class=\"dataframe\">\n",
       "  <thead>\n",
       "    <tr style=\"text-align: right;\">\n",
       "      <th></th>\n",
       "      <th>Survived</th>\n",
       "      <th>Age</th>\n",
       "      <th>SibSp</th>\n",
       "      <th>Parch</th>\n",
       "      <th>Fare</th>\n",
       "    </tr>\n",
       "    <tr>\n",
       "      <th>Pclass</th>\n",
       "      <th></th>\n",
       "      <th></th>\n",
       "      <th></th>\n",
       "      <th></th>\n",
       "      <th></th>\n",
       "    </tr>\n",
       "  </thead>\n",
       "  <tbody>\n",
       "    <tr>\n",
       "      <th>1</th>\n",
       "      <td>0.629630</td>\n",
       "      <td>38.233441</td>\n",
       "      <td>0.416667</td>\n",
       "      <td>0.356481</td>\n",
       "      <td>84.154687</td>\n",
       "    </tr>\n",
       "    <tr>\n",
       "      <th>2</th>\n",
       "      <td>0.472826</td>\n",
       "      <td>29.877630</td>\n",
       "      <td>0.402174</td>\n",
       "      <td>0.380435</td>\n",
       "      <td>20.662183</td>\n",
       "    </tr>\n",
       "    <tr>\n",
       "      <th>3</th>\n",
       "      <td>0.242363</td>\n",
       "      <td>25.140620</td>\n",
       "      <td>0.615071</td>\n",
       "      <td>0.393075</td>\n",
       "      <td>13.675550</td>\n",
       "    </tr>\n",
       "  </tbody>\n",
       "</table>\n",
       "</div>"
      ],
      "text/plain": [
       "        Survived        Age     SibSp     Parch       Fare\n",
       "Pclass                                                    \n",
       "1       0.629630  38.233441  0.416667  0.356481  84.154687\n",
       "2       0.472826  29.877630  0.402174  0.380435  20.662183\n",
       "3       0.242363  25.140620  0.615071  0.393075  13.675550"
      ]
     },
     "execution_count": 14,
     "metadata": {},
     "output_type": "execute_result"
    }
   ],
   "source": [
    "df_titanic.groupby(['Pclass']).mean()"
   ]
  },
  {
   "cell_type": "code",
   "execution_count": 15,
   "metadata": {},
   "outputs": [],
   "source": [
    "df_titanic[\"Age\"] = df_titanic[[\"Age\", \"Pclass\"]].apply(age_approx, axis=1)"
   ]
  },
  {
   "cell_type": "code",
   "execution_count": 17,
   "metadata": {},
   "outputs": [
    {
     "data": {
      "text/plain": [
       "Survived    0\n",
       "Pclass      0\n",
       "Sex         0\n",
       "Age         0\n",
       "SibSp       0\n",
       "Parch       0\n",
       "Fare        0\n",
       "Embarked    2\n",
       "dtype: int64"
      ]
     },
     "execution_count": 17,
     "metadata": {},
     "output_type": "execute_result"
    }
   ],
   "source": [
    "df_titanic.isnull().sum()"
   ]
  },
  {
   "cell_type": "code",
   "execution_count": 18,
   "metadata": {},
   "outputs": [],
   "source": [
    "df_titanic = pd.get_dummies(df_titanic, columns=[\"Sex\"])\n"
   ]
  },
  {
   "cell_type": "code",
   "execution_count": 19,
   "metadata": {},
   "outputs": [],
   "source": [
    "df_titanic_dummied = pd.get_dummies(df_titanic,columns=[\"Embarked\"])"
   ]
  },
  {
   "cell_type": "code",
   "execution_count": 20,
   "metadata": {},
   "outputs": [
    {
     "data": {
      "text/html": [
       "<div>\n",
       "<style scoped>\n",
       "    .dataframe tbody tr th:only-of-type {\n",
       "        vertical-align: middle;\n",
       "    }\n",
       "\n",
       "    .dataframe tbody tr th {\n",
       "        vertical-align: top;\n",
       "    }\n",
       "\n",
       "    .dataframe thead th {\n",
       "        text-align: right;\n",
       "    }\n",
       "</style>\n",
       "<table border=\"1\" class=\"dataframe\">\n",
       "  <thead>\n",
       "    <tr style=\"text-align: right;\">\n",
       "      <th></th>\n",
       "      <th>Survived</th>\n",
       "      <th>Pclass</th>\n",
       "      <th>Age</th>\n",
       "      <th>SibSp</th>\n",
       "      <th>Parch</th>\n",
       "      <th>Fare</th>\n",
       "      <th>Sex_female</th>\n",
       "      <th>Sex_male</th>\n",
       "      <th>Embarked_C</th>\n",
       "      <th>Embarked_Q</th>\n",
       "      <th>Embarked_S</th>\n",
       "    </tr>\n",
       "  </thead>\n",
       "  <tbody>\n",
       "    <tr>\n",
       "      <th>0</th>\n",
       "      <td>0</td>\n",
       "      <td>3</td>\n",
       "      <td>22.0</td>\n",
       "      <td>1</td>\n",
       "      <td>0</td>\n",
       "      <td>7.2500</td>\n",
       "      <td>0</td>\n",
       "      <td>1</td>\n",
       "      <td>0</td>\n",
       "      <td>0</td>\n",
       "      <td>1</td>\n",
       "    </tr>\n",
       "    <tr>\n",
       "      <th>1</th>\n",
       "      <td>1</td>\n",
       "      <td>1</td>\n",
       "      <td>38.0</td>\n",
       "      <td>1</td>\n",
       "      <td>0</td>\n",
       "      <td>71.2833</td>\n",
       "      <td>1</td>\n",
       "      <td>0</td>\n",
       "      <td>1</td>\n",
       "      <td>0</td>\n",
       "      <td>0</td>\n",
       "    </tr>\n",
       "    <tr>\n",
       "      <th>2</th>\n",
       "      <td>1</td>\n",
       "      <td>3</td>\n",
       "      <td>26.0</td>\n",
       "      <td>0</td>\n",
       "      <td>0</td>\n",
       "      <td>7.9250</td>\n",
       "      <td>1</td>\n",
       "      <td>0</td>\n",
       "      <td>0</td>\n",
       "      <td>0</td>\n",
       "      <td>1</td>\n",
       "    </tr>\n",
       "    <tr>\n",
       "      <th>3</th>\n",
       "      <td>1</td>\n",
       "      <td>1</td>\n",
       "      <td>35.0</td>\n",
       "      <td>1</td>\n",
       "      <td>0</td>\n",
       "      <td>53.1000</td>\n",
       "      <td>1</td>\n",
       "      <td>0</td>\n",
       "      <td>0</td>\n",
       "      <td>0</td>\n",
       "      <td>1</td>\n",
       "    </tr>\n",
       "    <tr>\n",
       "      <th>4</th>\n",
       "      <td>0</td>\n",
       "      <td>3</td>\n",
       "      <td>35.0</td>\n",
       "      <td>0</td>\n",
       "      <td>0</td>\n",
       "      <td>8.0500</td>\n",
       "      <td>0</td>\n",
       "      <td>1</td>\n",
       "      <td>0</td>\n",
       "      <td>0</td>\n",
       "      <td>1</td>\n",
       "    </tr>\n",
       "  </tbody>\n",
       "</table>\n",
       "</div>"
      ],
      "text/plain": [
       "   Survived  Pclass   Age  SibSp  Parch     Fare  Sex_female  Sex_male  \\\n",
       "0         0       3  22.0      1      0   7.2500           0         1   \n",
       "1         1       1  38.0      1      0  71.2833           1         0   \n",
       "2         1       3  26.0      0      0   7.9250           1         0   \n",
       "3         1       1  35.0      1      0  53.1000           1         0   \n",
       "4         0       3  35.0      0      0   8.0500           0         1   \n",
       "\n",
       "   Embarked_C  Embarked_Q  Embarked_S  \n",
       "0           0           0           1  \n",
       "1           1           0           0  \n",
       "2           0           0           1  \n",
       "3           0           0           1  \n",
       "4           0           0           1  "
      ]
     },
     "execution_count": 20,
     "metadata": {},
     "output_type": "execute_result"
    }
   ],
   "source": [
    "df_titanic_dummied.head()"
   ]
  },
  {
   "cell_type": "code",
   "execution_count": 21,
   "metadata": {},
   "outputs": [
    {
     "data": {
      "text/plain": [
       "<matplotlib.axes._subplots.AxesSubplot at 0x1a0e7a40588>"
      ]
     },
     "execution_count": 21,
     "metadata": {},
     "output_type": "execute_result"
    },
    {
     "data": {
      "image/png": "[encoded data removed]",
      "text/plain": [
       "<Figure size 432x288 with 2 Axes>"
      ]
     },
     "metadata": {},
     "output_type": "display_data"
    }
   ],
   "source": [
    "plt.figure(figsize=(6, 4))\n",
    "sns.heatmap(df_titanic_dummied.corr())"
   ]
  },
  {
   "cell_type": "code",
   "execution_count": 23,
   "metadata": {},
   "outputs": [],
   "source": [
    "used_features = ['Pclass','Age','SibSp','Parch','Sex_female','Sex_male',\n",
    "                'Embarked_C','Embarked_Q','Embarked_S']\n",
    "X = df_titanic_dummied[used_features].values\n",
    "y = df_titanic_dummied[\"Survived\"]"
   ]
  },
  {
   "cell_type": "code",
   "execution_count": 24,
   "metadata": {},
   "outputs": [],
   "source": [
    "X_train,X_test,y_train,y_test = train_test_split(X,y,test_size=0.3,random_state=1)"
   ]
  },
  {
   "cell_type": "code",
   "execution_count": 25,
   "metadata": {},
   "outputs": [
    {
     "name": "stdout",
     "output_type": "stream",
     "text": [
      "(623, 9)\n",
      "(268, 9)\n",
      "(623,)\n",
      "(268,)\n"
     ]
    }
   ],
   "source": [
    "print(X_train.shape)\n",
    "print(X_test.shape)\n",
    "print(y_train.shape)\n",
    "print(y_test.shape)"
   ]
  },
  {
   "cell_type": "code",
   "execution_count": 26,
   "metadata": {},
   "outputs": [
    {
     "name": "stderr",
     "output_type": "stream",
     "text": [
      "C:\\anaconda\\lib\\site-packages\\sklearn\\linear_model\\_logistic.py:764: ConvergenceWarning: lbfgs failed to converge (status=1):\n",
      "STOP: TOTAL NO. of ITERATIONS REACHED LIMIT.\n",
      "\n",
      "Increase the number of iterations (max_iter) or scale the data as shown in:\n",
      "    https://scikit-learn.org/stable/modules/preprocessing.html\n",
      "Please also refer to the documentation for alternative solver options:\n",
      "    https://scikit-learn.org/stable/modules/linear_model.html#logistic-regression\n",
      "  extra_warning_msg=_LOGISTIC_SOLVER_CONVERGENCE_MSG)\n"
     ]
    },
    {
     "data": {
      "text/plain": [
       "LogisticRegression()"
      ]
     },
     "execution_count": 26,
     "metadata": {},
     "output_type": "execute_result"
    }
   ],
   "source": [
    "logreg = LogisticRegression()\n",
    "logreg.fit(X_train, y_train)"
   ]
  },
  {
   "cell_type": "code",
   "execution_count": 27,
   "metadata": {},
   "outputs": [],
   "source": [
    "predictions = logreg.predict(X_test)"
   ]
  },
  {
   "cell_type": "code",
   "execution_count": 28,
   "metadata": {},
   "outputs": [
    {
     "data": {
      "text/plain": [
       "array([[131,  22],\n",
       "       [ 36,  79]], dtype=int64)"
      ]
     },
     "execution_count": 28,
     "metadata": {},
     "output_type": "execute_result"
    }
   ],
   "source": [
    "metrics.confusion_matrix(y_test, predictions)"
   ]
  },
  {
   "cell_type": "code",
   "execution_count": 30,
   "metadata": {},
   "outputs": [
    {
     "data": {
      "text/plain": [
       "0.7835820895522388"
      ]
     },
     "execution_count": 30,
     "metadata": {},
     "output_type": "execute_result"
    }
   ],
   "source": [
    "metrics.accuracy_score(y_test, predictions)"
   ]
  },
  {
   "cell_type": "code",
   "execution_count": 32,
   "metadata": {},
   "outputs": [
    {
     "name": "stdout",
     "output_type": "stream",
     "text": [
      "              precision    recall  f1-score   support\n",
      "\n",
      "           0       0.78      0.86      0.82       153\n",
      "           1       0.78      0.69      0.73       115\n",
      "\n",
      "    accuracy                           0.78       268\n",
      "   macro avg       0.78      0.77      0.78       268\n",
      "weighted avg       0.78      0.78      0.78       268\n",
      "\n"
     ]
    }
   ],
   "source": [
    "print(classification_report(y_test, predictions))"
   ]
  },
  {
   "cell_type": "code",
   "execution_count": 33,
   "metadata": {},
   "outputs": [
    {
     "data": {
      "text/plain": [
       "array([[-1.17692484, -0.04046302, -0.33369802,  0.06190894,  1.61601947,\n",
       "        -1.20905435,  0.21016173,  0.05233891, -0.21690225]])"
      ]
     },
     "execution_count": 33,
     "metadata": {},
     "output_type": "execute_result"
    }
   ],
   "source": [
    "logreg.coef_"
   ]
  },
  {
   "cell_type": "code",
   "execution_count": 34,
   "metadata": {},
   "outputs": [
    {
     "data": {
      "text/plain": [
       "array([3.62650212])"
      ]
     },
     "execution_count": 34,
     "metadata": {},
     "output_type": "execute_result"
    }
   ],
   "source": [
    "logreg.intercept_"
   ]
  },
  {
   "cell_type": "code",
   "execution_count": 35,
   "metadata": {},
   "outputs": [
    {
     "data": {
      "text/plain": [
       "Index(['Pclass', 'Age', 'SibSp', 'Parch', 'Sex_female', 'Sex_male',\n",
       "       'Embarked_C', 'Embarked_Q', 'Embarked_S'],\n",
       "      dtype='object')"
      ]
     },
     "execution_count": 35,
     "metadata": {},
     "output_type": "execute_result"
    }
   ],
   "source": [
    "df_titanic_dummied[used_features].columns"
   ]
  },
  {
   "cell_type": "code",
   "execution_count": 36,
   "metadata": {},
   "outputs": [
    {
     "data": {
      "text/plain": [
       "array([[0.12937798, 0.87062202],\n",
       "       [0.90898807, 0.09101193],\n",
       "       [0.12090388, 0.87909612],\n",
       "       [0.31153054, 0.68846946],\n",
       "       [0.07499717, 0.92500283],\n",
       "       [0.89843472, 0.10156528],\n",
       "       [0.81852505, 0.18147495],\n",
       "       [0.10921439, 0.89078561],\n",
       "       [0.50399437, 0.49600563],\n",
       "       [0.38715769, 0.61284231],\n",
       "       [0.91228059, 0.08771941],\n",
       "       [0.39107246, 0.60892754],\n",
       "       [0.76158377, 0.23841623],\n",
       "       [0.79029949, 0.20970051],\n",
       "       [0.31153054, 0.68846946],\n",
       "       [0.52730874, 0.47269126],\n",
       "       [0.93163852, 0.06836148],\n",
       "       [0.93308289, 0.06691711],\n",
       "       [0.94196367, 0.05803633],\n",
       "       [0.22811459, 0.77188541],\n",
       "       [0.93245618, 0.06754382],\n",
       "       [0.90795368, 0.09204632],\n",
       "       [0.03541214, 0.96458786],\n",
       "       [0.70716163, 0.29283837],\n",
       "       [0.26864719, 0.73135281],\n",
       "       [0.91854427, 0.08145573],\n",
       "       [0.05302762, 0.94697238],\n",
       "       [0.27441772, 0.72558228],\n",
       "       [0.76947383, 0.23052617],\n",
       "       [0.04933593, 0.95066407],\n",
       "       [0.35327863, 0.64672137],\n",
       "       [0.6162144 , 0.3837856 ],\n",
       "       [0.52681578, 0.47318422],\n",
       "       [0.46267671, 0.53732329],\n",
       "       [0.9370113 , 0.0629887 ],\n",
       "       [0.47962241, 0.52037759],\n",
       "       [0.60660124, 0.39339876],\n",
       "       [0.90898807, 0.09101193],\n",
       "       [0.47367157, 0.52632843],\n",
       "       [0.8946825 , 0.1053175 ],\n",
       "       [0.40074945, 0.59925055],\n",
       "       [0.37141266, 0.62858734],\n",
       "       [0.1577396 , 0.8422604 ],\n",
       "       [0.69369404, 0.30630596],\n",
       "       [0.4116582 , 0.5883418 ],\n",
       "       [0.93971167, 0.06028833],\n",
       "       [0.9651084 , 0.0348916 ],\n",
       "       [0.84958652, 0.15041348],\n",
       "       [0.49138108, 0.50861892],\n",
       "       [0.69012685, 0.30987315],\n",
       "       [0.7108812 , 0.2891188 ],\n",
       "       [0.13918851, 0.86081149],\n",
       "       [0.7154701 , 0.2845299 ],\n",
       "       [0.8334076 , 0.1665924 ],\n",
       "       [0.92439775, 0.07560225],\n",
       "       [0.45263386, 0.54736614],\n",
       "       [0.79029949, 0.20970051],\n",
       "       [0.80916957, 0.19083043],\n",
       "       [0.94942696, 0.05057304],\n",
       "       [0.33501604, 0.66498396],\n",
       "       [0.88309115, 0.11690885],\n",
       "       [0.86695243, 0.13304757],\n",
       "       [0.77282986, 0.22717014],\n",
       "       [0.68937844, 0.31062156],\n",
       "       [0.59930708, 0.40069292],\n",
       "       [0.29477611, 0.70522389],\n",
       "       [0.87912971, 0.12087029],\n",
       "       [0.87601292, 0.12398708],\n",
       "       [0.18605844, 0.81394156],\n",
       "       [0.89706244, 0.10293756],\n",
       "       [0.95114164, 0.04885836],\n",
       "       [0.95967389, 0.04032611],\n",
       "       [0.60123511, 0.39876489],\n",
       "       [0.90898807, 0.09101193],\n",
       "       [0.40965839, 0.59034161],\n",
       "       [0.77771206, 0.22228794],\n",
       "       [0.10921439, 0.89078561],\n",
       "       [0.88412641, 0.11587359],\n",
       "       [0.71016186, 0.28983814],\n",
       "       [0.03911735, 0.96088265],\n",
       "       [0.91546507, 0.08453493],\n",
       "       [0.99221011, 0.00778989],\n",
       "       [0.90898807, 0.09101193],\n",
       "       [0.93737809, 0.06262191],\n",
       "       [0.10264416, 0.89735584],\n",
       "       [0.92439775, 0.07560225],\n",
       "       [0.90898807, 0.09101193],\n",
       "       [0.86695243, 0.13304757],\n",
       "       [0.48972832, 0.51027168],\n",
       "       [0.38774876, 0.61225124],\n",
       "       [0.70643686, 0.29356314],\n",
       "       [0.86695243, 0.13304757],\n",
       "       [0.88820773, 0.11179227],\n",
       "       [0.31153054, 0.68846946],\n",
       "       [0.90898807, 0.09101193],\n",
       "       [0.44107653, 0.55892347],\n",
       "       [0.97628269, 0.02371731],\n",
       "       [0.27872469, 0.72127531],\n",
       "       [0.8908085 , 0.1091915 ],\n",
       "       [0.90898807, 0.09101193],\n",
       "       [0.51160965, 0.48839035],\n",
       "       [0.62573759, 0.37426241],\n",
       "       [0.89530063, 0.10469937],\n",
       "       [0.22175237, 0.77824763],\n",
       "       [0.02435743, 0.97564257],\n",
       "       [0.90558476, 0.09441524],\n",
       "       [0.92439775, 0.07560225],\n",
       "       [0.92439775, 0.07560225],\n",
       "       [0.94716769, 0.05283231],\n",
       "       [0.95389691, 0.04610309],\n",
       "       [0.70385041, 0.29614959],\n",
       "       [0.85733767, 0.14266233],\n",
       "       [0.89046785, 0.10953215],\n",
       "       [0.93556553, 0.06443447],\n",
       "       [0.74724142, 0.25275858],\n",
       "       [0.93496044, 0.06503956],\n",
       "       [0.84029567, 0.15970433],\n",
       "       [0.63747713, 0.36252287],\n",
       "       [0.29288712, 0.70711288],\n",
       "       [0.44016528, 0.55983472],\n",
       "       [0.23056792, 0.76943208],\n",
       "       [0.79449645, 0.20550355],\n",
       "       [0.90898807, 0.09101193],\n",
       "       [0.70716163, 0.29283837],\n",
       "       [0.06191031, 0.93808969],\n",
       "       [0.04394413, 0.95605587],\n",
       "       [0.17670903, 0.82329097],\n",
       "       [0.35327863, 0.64672137],\n",
       "       [0.99221011, 0.00778989],\n",
       "       [0.88412641, 0.11587359],\n",
       "       [0.90898807, 0.09101193],\n",
       "       [0.95732794, 0.04267206],\n",
       "       [0.216518  , 0.783482  ],\n",
       "       [0.41139943, 0.58860057],\n",
       "       [0.6987871 , 0.3012129 ],\n",
       "       [0.12687199, 0.87312801],\n",
       "       [0.03753665, 0.96246335],\n",
       "       [0.94860074, 0.05139926],\n",
       "       [0.91623528, 0.08376472],\n",
       "       [0.36257727, 0.63742273],\n",
       "       [0.06740581, 0.93259419],\n",
       "       [0.94825456, 0.05174544],\n",
       "       [0.04426306, 0.95573694],\n",
       "       [0.37197988, 0.62802012],\n",
       "       [0.90898807, 0.09101193],\n",
       "       [0.39345493, 0.60654507],\n",
       "       [0.80339623, 0.19660377],\n",
       "       [0.90898807, 0.09101193],\n",
       "       [0.37858158, 0.62141842],\n",
       "       [0.90206789, 0.09793211],\n",
       "       [0.18605844, 0.81394156],\n",
       "       [0.96486928, 0.03513072],\n",
       "       [0.91794871, 0.08205129],\n",
       "       [0.29444352, 0.70555648],\n",
       "       [0.90898807, 0.09101193],\n",
       "       [0.93245618, 0.06754382],\n",
       "       [0.90206789, 0.09793211],\n",
       "       [0.95389691, 0.04610309],\n",
       "       [0.15807329, 0.84192671],\n",
       "       [0.74724142, 0.25275858],\n",
       "       [0.87912114, 0.12087886],\n",
       "       [0.92152092, 0.07847908],\n",
       "       [0.34408974, 0.65591026],\n",
       "       [0.52730874, 0.47269126],\n",
       "       [0.95476799, 0.04523201],\n",
       "       [0.27264075, 0.72735925],\n",
       "       [0.25064595, 0.74935405],\n",
       "       [0.90898807, 0.09101193],\n",
       "       [0.87842907, 0.12157093],\n",
       "       [0.68402954, 0.31597046],\n",
       "       [0.05418961, 0.94581039],\n",
       "       [0.44943728, 0.55056272],\n",
       "       [0.06693181, 0.93306819],\n",
       "       [0.91135981, 0.08864019],\n",
       "       [0.13400446, 0.86599554],\n",
       "       [0.6162144 , 0.3837856 ],\n",
       "       [0.88412641, 0.11587359],\n",
       "       [0.87109902, 0.12890098],\n",
       "       [0.24710608, 0.75289392],\n",
       "       [0.93699691, 0.06300309],\n",
       "       [0.04470785, 0.95529215],\n",
       "       [0.21483441, 0.78516559],\n",
       "       [0.84163228, 0.15836772],\n",
       "       [0.93474744, 0.06525256],\n",
       "       [0.06444866, 0.93555134],\n",
       "       [0.70716163, 0.29283837],\n",
       "       [0.90898807, 0.09101193],\n",
       "       [0.04725243, 0.95274757],\n",
       "       [0.88412641, 0.11587359],\n",
       "       [0.07618229, 0.92381771],\n",
       "       [0.6162144 , 0.3837856 ],\n",
       "       [0.68937844, 0.31062156],\n",
       "       [0.31153054, 0.68846946],\n",
       "       [0.21165745, 0.78834255],\n",
       "       [0.21653867, 0.78346133],\n",
       "       [0.07391829, 0.92608171],\n",
       "       [0.79029949, 0.20970051],\n",
       "       [0.12977243, 0.87022757],\n",
       "       [0.91064801, 0.08935199],\n",
       "       [0.80568143, 0.19431857],\n",
       "       [0.88268443, 0.11731557],\n",
       "       [0.26177591, 0.73822409],\n",
       "       [0.86695243, 0.13304757],\n",
       "       [0.65856132, 0.34143868],\n",
       "       [0.67815373, 0.32184627],\n",
       "       [0.15437944, 0.84562056],\n",
       "       [0.18978887, 0.81021113],\n",
       "       [0.76221822, 0.23778178],\n",
       "       [0.6162144 , 0.3837856 ],\n",
       "       [0.97053821, 0.02946179],\n",
       "       [0.04829432, 0.95170568],\n",
       "       [0.93720669, 0.06279331],\n",
       "       [0.88658878, 0.11341122],\n",
       "       [0.79384472, 0.20615528],\n",
       "       [0.85592129, 0.14407871],\n",
       "       [0.93971167, 0.06028833],\n",
       "       [0.88412641, 0.11587359],\n",
       "       [0.03717665, 0.96282335],\n",
       "       [0.18842022, 0.81157978],\n",
       "       [0.77596554, 0.22403446],\n",
       "       [0.6162144 , 0.3837856 ],\n",
       "       [0.86695243, 0.13304757],\n",
       "       [0.7465803 , 0.2534197 ],\n",
       "       [0.73292699, 0.26707301],\n",
       "       [0.91418179, 0.08581821],\n",
       "       [0.70385041, 0.29614959],\n",
       "       [0.04018437, 0.95981563],\n",
       "       [0.51970844, 0.48029156],\n",
       "       [0.2234679 , 0.7765321 ],\n",
       "       [0.70007855, 0.29992145],\n",
       "       [0.62387284, 0.37612716],\n",
       "       [0.84844019, 0.15155981],\n",
       "       [0.70229501, 0.29770499],\n",
       "       [0.82186679, 0.17813321],\n",
       "       [0.94623273, 0.05376727],\n",
       "       [0.35044167, 0.64955833],\n",
       "       [0.42217472, 0.57782528],\n",
       "       [0.28561211, 0.71438789],\n",
       "       [0.2918055 , 0.7081945 ],\n",
       "       [0.92784937, 0.07215063],\n",
       "       [0.94546706, 0.05453294],\n",
       "       [0.84415058, 0.15584942],\n",
       "       [0.89254986, 0.10745014],\n",
       "       [0.93245618, 0.06754382],\n",
       "       [0.95472606, 0.04527394],\n",
       "       [0.92986272, 0.07013728],\n",
       "       [0.18267291, 0.81732709],\n",
       "       [0.21483441, 0.78516559],\n",
       "       [0.64459201, 0.35540799],\n",
       "       [0.07951477, 0.92048523],\n",
       "       [0.9520844 , 0.0479156 ],\n",
       "       [0.90329773, 0.09670227],\n",
       "       [0.68281655, 0.31718345],\n",
       "       [0.40886791, 0.59113209],\n",
       "       [0.17310942, 0.82689058],\n",
       "       [0.26197054, 0.73802946],\n",
       "       [0.76040604, 0.23959396],\n",
       "       [0.25860169, 0.74139831],\n",
       "       [0.84283126, 0.15716874],\n",
       "       [0.43698646, 0.56301354],\n",
       "       [0.09906478, 0.90093522],\n",
       "       [0.91418179, 0.08581821],\n",
       "       [0.31153054, 0.68846946],\n",
       "       [0.13889776, 0.86110224],\n",
       "       [0.77657294, 0.22342706],\n",
       "       [0.8158656 , 0.1841344 ],\n",
       "       [0.47367157, 0.52632843],\n",
       "       [0.76339366, 0.23660634]])"
      ]
     },
     "execution_count": 36,
     "metadata": {},
     "output_type": "execute_result"
    }
   ],
   "source": [
    "logreg.predict_proba(X_test)"
   ]
  },
  {
   "cell_type": "code",
   "execution_count": null,
   "metadata": {},
   "outputs": [],
   "source": []
  }
 ],
 "metadata": {
  "kernelspec": {
   "display_name": "Python 3",
   "language": "python",
   "name": "python3"
  },
  "language_info": {
   "codemirror_mode": {
    "name": "ipython",
    "version": 3
   },
   "file_extension": ".py",
   "mimetype": "text/x-python",
   "name": "python",
   "nbconvert_exporter": "python",
   "pygments_lexer": "ipython3",
   "version": "3.7.6"
  }
 },
 "nbformat": 4,
 "nbformat_minor": 4
}
